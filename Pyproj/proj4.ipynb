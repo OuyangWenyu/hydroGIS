{
 "cells": [
  {
   "cell_type": "markdown",
   "metadata": {
    "pycharm": {
     "name": "#%% md\n"
    }
   },
   "source": [
    "# PROJ.4简介\n",
    "\n",
    "PROJ.4是开源GIS最著名的地图投影库，它专注于地图投影的表达，以及转换，许多GIS开源软件的投影都直接使用Proj.4的库文件。\n",
    "\n",
    "Proj.4的功能主要有经纬度坐标与地理坐标的转换，坐标系的转换，包括基准变换等。\n",
    "\n",
    "地图投影的表达方式有多种，由于采用一种非常简单明了的投影表达－－PROJ.4比其它的投影定义简单，很容易就能看到各种地理坐标系和地图投影的参数，同时它强大的投影转换功能，也是非常吸引人的。\n",
    "\n",
    "使用pip安装很容易：\n",
    "\n",
    "$ pip install pyproj\n",
    "\n",
    "### Proj类\n",
    "\n",
    "Proj 类主要是进行**经纬度与地图投影坐标转换**，以及反转。 \n",
    " \n",
    "当初始化一个 Proj 类的实例时，地图投影的参数设置可以用关键字/值的形式。关键字和值的形式也可以用字典或关键字参数，或者一个 proj4 字符串。\n",
    "\n",
    "如果可选的关键字“errcheck”为真的话（默认为假）， 一个异常将会被给出，如果转换无效的话。 如果为假，且转换无效时，没有异常抛出，会返会一个无效值 1.e30。\n"
   ]
  },
  {
   "cell_type": "code",
   "execution_count": 5,
   "metadata": {
    "collapsed": false,
    "jupyter": {
     "outputs_hidden": false
    },
    "pycharm": {
     "is_executing": false,
     "name": "#%%\n"
    }
   },
   "outputs": [
    {
     "name": "stdout",
     "output_type": "stream",
     "text": [
      "-3937003.942,14745198.051\n"
     ]
    }
   ],
   "source": [
    "from pyproj import Proj\n",
    "p = Proj(proj='utm',zone=10,ellps='WGS84') # use kwargs\n",
    "# p = Proj('+proj=utm +zone=10 +ellps=WGS84') # use proj4 string\n",
    "x,y=p(105,36)\n",
    "print('%.3f,%.3f' %(x,y))\n"
   ]
  },
  {
   "cell_type": "markdown",
   "metadata": {},
   "source": [
    "上述代码即将经纬度坐标转换为平面坐标。"
   ]
  }
 ],
 "metadata": {
  "kernelspec": {
   "display_name": "Python 3",
   "language": "python",
   "name": "python3"
  },
  "language_info": {
   "codemirror_mode": {
    "name": "ipython",
    "version": 3
   },
   "file_extension": ".py",
   "mimetype": "text/x-python",
   "name": "python",
   "nbconvert_exporter": "python",
   "pygments_lexer": "ipython3",
   "version": "3.7.4"
  },
  "pycharm": {
   "stem_cell": {
    "cell_type": "raw",
    "metadata": {
     "collapsed": false
    },
    "source": []
   }
  }
 },
 "nbformat": 4,
 "nbformat_minor": 4
}
