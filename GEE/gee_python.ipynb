{
 "cells": [
  {
   "cell_type": "markdown",
   "metadata": {},
   "source": [
    "# GEE python\n",
    "\n",
    "GEE 也有python接口，可以和scipy等常用python库一起使用，还可以和tensorflow一起使用，因此简单记录下关于GEE python的使用。主要参考：\n",
    "\n",
    "- [Earth Engine Python API & Colab ](https://docs.google.com/presentation/d/e/2PACX-1vTFAWIEBg3aVhY5dImnTzTDmbgnu9A4pEOW6OUdpoCLvxD1ot3UI0qbcD90oXsR0CJdWQz-kAUE_2tb/pub?start=false&loop=false&delayms=3000)\n",
    "- [Python installation](https://developers.google.com/earth-engine/python_install)\n",
    "- [GEE的本地python环境搭建](https://zhuanlan.zhihu.com/p/29186942)\n",
    "- [命令行简介](https://zhuanlan.zhihu.com/p/72138261)\n",
    "- [静态展示影像和动态展示影像](https://zhuanlan.zhihu.com/p/72409568)\n",
    "- [DISPLAY MAPS WITH THE GEE PYTHON LIBRARY](https://mygeoblog.com/2017/01/09/display-maps-with-the-gee-python-library/)\n",
    "- [How To Install Node.js on Ubuntu 18.04](https://www.digitalocean.com/community/tutorials/how-to-install-node-js-on-ubuntu-18-04)\n",
    "- [JupyterLab安装地图插件](https://my.oschina.net/u/2306127/blog/1859080)\n",
    "\n",
    "python API可以和command shell，web application和jupyter交互。和JS相比，python API可以在脚本间分享代码，允许序列调用GEE，有很多绘图选项，比如matplotlib，seaborn，plotly，bokeh，pygal，ggplot和altair等。\n",
    "\n",
    "## Python Installation\n",
    "\n",
    "使用GEE python API。需要安装：\n",
    "\n",
    "- python\n",
    "- 包管理器 \n",
    "- GEE Python API\n",
    "- Python数据科学计算库\n",
    "\n",
    "python有两种方式可以快速上手，一种是在云端运行，一种是本地。\n",
    "\n",
    "### 本地运行安装\n",
    "\n",
    "按照官方文档建议，为了确保GEE API和其依赖不引起基本环境内包的版本问题，最好将其安装到专门的环境下，不过根据知乎上的专栏，有人直接使用貌似问题也不大，那就先按省事的来了。以下是在Ubuntu18.04 LTS操作系统下实践的。\n",
    "\n",
    "按照下面代码安装即可。"
   ]
  },
  {
   "cell_type": "code",
   "execution_count": 1,
   "metadata": {},
   "outputs": [
    {
     "name": "stdout",
     "output_type": "stream",
     "text": [
      "Collecting google-api-python-client\n",
      "\u001b[?25l  Downloading https://files.pythonhosted.org/packages/5e/19/9fd511734c0dee8fa3d49f4109c75e7f95d3c31ed76c0e4a93fbba147807/google-api-python-client-1.7.11.tar.gz (142kB)\n",
      "\u001b[K     |████████████████████████████████| 143kB 1.8MB/s eta 0:00:01\n",
      "\u001b[?25hCollecting httplib2<1dev,>=0.9.2\n",
      "\u001b[?25l  Downloading https://files.pythonhosted.org/packages/d2/84/f97b9efdb17c9b73e133bdbf2b4bfd09cd0be655e36e3ee3c4bec9095048/httplib2-0.14.0-py3-none-any.whl (94kB)\n",
      "\u001b[K     |████████████████████████████████| 102kB 17.4MB/s ta 0:00:01\n",
      "\u001b[?25hRequirement already satisfied: google-auth>=1.4.1 in /home/owen/anaconda3/lib/python3.7/site-packages (from google-api-python-client) (1.6.3)\n",
      "Collecting google-auth-httplib2>=0.0.3\n",
      "  Downloading https://files.pythonhosted.org/packages/33/49/c814d6d438b823441552198f096fcd0377fd6c88714dbed34f1d3c8c4389/google_auth_httplib2-0.0.3-py2.py3-none-any.whl\n",
      "Requirement already satisfied: six<2dev,>=1.6.1 in /home/owen/anaconda3/lib/python3.7/site-packages (from google-api-python-client) (1.13.0)\n",
      "Collecting uritemplate<4dev,>=3.0.0\n",
      "  Downloading https://files.pythonhosted.org/packages/e5/7d/9d5a640c4f8bf2c8b1afc015e9a9d8de32e13c9016dcc4b0ec03481fb396/uritemplate-3.0.0-py2.py3-none-any.whl\n",
      "Requirement already satisfied: rsa>=3.1.4 in /home/owen/anaconda3/lib/python3.7/site-packages (from google-auth>=1.4.1->google-api-python-client) (4.0)\n",
      "Requirement already satisfied: cachetools>=2.0.0 in /home/owen/anaconda3/lib/python3.7/site-packages (from google-auth>=1.4.1->google-api-python-client) (3.1.1)\n",
      "Requirement already satisfied: pyasn1-modules>=0.2.1 in /home/owen/anaconda3/lib/python3.7/site-packages (from google-auth>=1.4.1->google-api-python-client) (0.2.7)\n",
      "Requirement already satisfied: pyasn1>=0.1.3 in /home/owen/anaconda3/lib/python3.7/site-packages (from rsa>=3.1.4->google-auth>=1.4.1->google-api-python-client) (0.4.7)\n",
      "Building wheels for collected packages: google-api-python-client\n",
      "  Building wheel for google-api-python-client (setup.py) ... \u001b[?25ldone\n",
      "\u001b[?25h  Created wheel for google-api-python-client: filename=google_api_python_client-1.7.11-cp37-none-any.whl size=56530 sha256=5de6a4c02a9a3b3d0340fa10c1f42d74350d5ea4ad788a09b72c829617cd7fc2\n",
      "  Stored in directory: /home/owen/.cache/pip/wheels/b8/f6/f5/b7bef1a5bc0e07ca4aa54c596b0b574c5afc07a9fddccf08f8\n",
      "Successfully built google-api-python-client\n",
      "Installing collected packages: httplib2, google-auth-httplib2, uritemplate, google-api-python-client\n",
      "Successfully installed google-api-python-client-1.7.11 google-auth-httplib2-0.0.3 httplib2-0.14.0 uritemplate-3.0.0\n"
     ]
    }
   ],
   "source": [
    "# !pip install google-api-python-client"
   ]
  },
  {
   "cell_type": "code",
   "execution_count": 2,
   "metadata": {},
   "outputs": [
    {
     "name": "stdout",
     "output_type": "stream",
     "text": [
      "Requirement already satisfied: pyCrypto in /home/owen/anaconda3/lib/python3.7/site-packages (2.6.1)\n"
     ]
    }
   ],
   "source": [
    "# !pip install pyCrypto"
   ]
  },
  {
   "cell_type": "code",
   "execution_count": 3,
   "metadata": {},
   "outputs": [
    {
     "name": "stdout",
     "output_type": "stream",
     "text": [
      "Collecting earthengine-api\n",
      "\u001b[?25l  Downloading https://files.pythonhosted.org/packages/6a/a7/c352897ff69c3ef05bde83f4c54fd68890e6ea18427a89f6645200651362/earthengine-api-0.1.207.tar.gz (148kB)\n",
      "\u001b[K     |████████████████████████████████| 153kB 1.8MB/s eta 0:00:01\n",
      "\u001b[?25hRequirement already satisfied: future in /home/owen/anaconda3/lib/python3.7/site-packages (from earthengine-api) (0.18.2)\n",
      "Collecting google-cloud-storage\n",
      "\u001b[?25l  Downloading https://files.pythonhosted.org/packages/87/78/7cf94b3d0961b1a3036ba351c7fdc04170baa73d20fcb41240da214c83fd/google_cloud_storage-1.23.0-py2.py3-none-any.whl (72kB)\n",
      "\u001b[K     |████████████████████████████████| 81kB 10.8MB/s eta 0:00:01\n",
      "\u001b[?25hRequirement already satisfied: google-api-python-client in /home/owen/anaconda3/lib/python3.7/site-packages (from earthengine-api) (1.7.11)\n",
      "Requirement already satisfied: google-auth>=1.4.1 in /home/owen/anaconda3/lib/python3.7/site-packages (from earthengine-api) (1.6.3)\n",
      "Requirement already satisfied: google-auth-httplib2>=0.0.3 in /home/owen/anaconda3/lib/python3.7/site-packages (from earthengine-api) (0.0.3)\n",
      "Requirement already satisfied: httplib2<1dev,>=0.9.2 in /home/owen/anaconda3/lib/python3.7/site-packages (from earthengine-api) (0.14.0)\n",
      "Requirement already satisfied: six in /home/owen/anaconda3/lib/python3.7/site-packages (from earthengine-api) (1.13.0)\n",
      "Collecting google-resumable-media<0.6dev,>=0.5.0\n",
      "  Downloading https://files.pythonhosted.org/packages/35/9e/f73325d0466ce5bdc36333f1aeb2892ead7b76e79bdb5c8b0493961fa098/google_resumable_media-0.5.0-py2.py3-none-any.whl\n",
      "Collecting google-cloud-core<2.0dev,>=1.0.3\n",
      "  Downloading https://files.pythonhosted.org/packages/ee/f0/084f598629db8e6ec3627688723875cdb03637acb6d86999bb105a71df64/google_cloud_core-1.0.3-py2.py3-none-any.whl\n",
      "Requirement already satisfied: uritemplate<4dev,>=3.0.0 in /home/owen/anaconda3/lib/python3.7/site-packages (from google-api-python-client->earthengine-api) (3.0.0)\n",
      "Requirement already satisfied: pyasn1-modules>=0.2.1 in /home/owen/anaconda3/lib/python3.7/site-packages (from google-auth>=1.4.1->earthengine-api) (0.2.7)\n",
      "Requirement already satisfied: cachetools>=2.0.0 in /home/owen/anaconda3/lib/python3.7/site-packages (from google-auth>=1.4.1->earthengine-api) (3.1.1)\n",
      "Requirement already satisfied: rsa>=3.1.4 in /home/owen/anaconda3/lib/python3.7/site-packages (from google-auth>=1.4.1->earthengine-api) (4.0)\n",
      "Collecting google-api-core<2.0.0dev,>=1.14.0\n",
      "\u001b[?25l  Downloading https://files.pythonhosted.org/packages/29/3a/c528ef37f48d6ffba16f0f3c0426456ba21e0dd32be9c61a2ade93e07faa/google_api_core-1.14.3-py2.py3-none-any.whl (68kB)\n",
      "\u001b[K     |████████████████████████████████| 71kB 13.6MB/s eta 0:00:01\n",
      "\u001b[?25hRequirement already satisfied: pyasn1<0.5.0,>=0.4.6 in /home/owen/anaconda3/lib/python3.7/site-packages (from pyasn1-modules>=0.2.1->google-auth>=1.4.1->earthengine-api) (0.4.7)\n",
      "Requirement already satisfied: protobuf>=3.4.0 in /home/owen/anaconda3/lib/python3.7/site-packages (from google-api-core<2.0.0dev,>=1.14.0->google-cloud-core<2.0dev,>=1.0.3->google-cloud-storage->earthengine-api) (3.10.0)\n",
      "Requirement already satisfied: setuptools>=34.0.0 in /home/owen/anaconda3/lib/python3.7/site-packages (from google-api-core<2.0.0dev,>=1.14.0->google-cloud-core<2.0dev,>=1.0.3->google-cloud-storage->earthengine-api) (41.6.0.post20191030)\n",
      "Requirement already satisfied: pytz in /home/owen/anaconda3/lib/python3.7/site-packages (from google-api-core<2.0.0dev,>=1.14.0->google-cloud-core<2.0dev,>=1.0.3->google-cloud-storage->earthengine-api) (2019.3)\n",
      "Requirement already satisfied: requests<3.0.0dev,>=2.18.0 in /home/owen/anaconda3/lib/python3.7/site-packages (from google-api-core<2.0.0dev,>=1.14.0->google-cloud-core<2.0dev,>=1.0.3->google-cloud-storage->earthengine-api) (2.22.0)\n",
      "Collecting googleapis-common-protos<2.0dev,>=1.6.0\n",
      "  Downloading https://files.pythonhosted.org/packages/eb/ee/e59e74ecac678a14d6abefb9054f0bbcb318a6452a30df3776f133886d7d/googleapis-common-protos-1.6.0.tar.gz\n",
      "Requirement already satisfied: urllib3!=1.25.0,!=1.25.1,<1.26,>=1.21.1 in /home/owen/anaconda3/lib/python3.7/site-packages (from requests<3.0.0dev,>=2.18.0->google-api-core<2.0.0dev,>=1.14.0->google-cloud-core<2.0dev,>=1.0.3->google-cloud-storage->earthengine-api) (1.24.2)\n",
      "Requirement already satisfied: chardet<3.1.0,>=3.0.2 in /home/owen/anaconda3/lib/python3.7/site-packages (from requests<3.0.0dev,>=2.18.0->google-api-core<2.0.0dev,>=1.14.0->google-cloud-core<2.0dev,>=1.0.3->google-cloud-storage->earthengine-api) (3.0.4)\n",
      "Requirement already satisfied: certifi>=2017.4.17 in /home/owen/anaconda3/lib/python3.7/site-packages (from requests<3.0.0dev,>=2.18.0->google-api-core<2.0.0dev,>=1.14.0->google-cloud-core<2.0dev,>=1.0.3->google-cloud-storage->earthengine-api) (2019.9.11)\n",
      "Requirement already satisfied: idna<2.9,>=2.5 in /home/owen/anaconda3/lib/python3.7/site-packages (from requests<3.0.0dev,>=2.18.0->google-api-core<2.0.0dev,>=1.14.0->google-cloud-core<2.0dev,>=1.0.3->google-cloud-storage->earthengine-api) (2.8)\n",
      "Building wheels for collected packages: earthengine-api, googleapis-common-protos\n",
      "  Building wheel for earthengine-api (setup.py) ... \u001b[?25ldone\n",
      "\u001b[?25h  Created wheel for earthengine-api: filename=earthengine_api-0.1.207-cp37-none-any.whl size=176178 sha256=b9129e426a8a2b7c63ceb9f26b966cacc60c07f37e845377f451f34394598505\n",
      "  Stored in directory: /home/owen/.cache/pip/wheels/ca/32/19/b966563b6dfe1053e6d2b962e32d76a1d74f3599736dabe961\n",
      "  Building wheel for googleapis-common-protos (setup.py) ... \u001b[?25ldone\n",
      "\u001b[?25h  Created wheel for googleapis-common-protos: filename=googleapis_common_protos-1.6.0-cp37-none-any.whl size=77577 sha256=845f1696c53dc4afe99a9014dfbe7cd304f467fbe0075cdd0e6a8e1a644bdd95\n",
      "  Stored in directory: /home/owen/.cache/pip/wheels/9e/3d/a2/1bec8bb7db80ab3216dbc33092bb7ccd0debfb8ba42b5668d5\n",
      "Successfully built earthengine-api googleapis-common-protos\n",
      "Installing collected packages: google-resumable-media, googleapis-common-protos, google-api-core, google-cloud-core, google-cloud-storage, earthengine-api\n",
      "Successfully installed earthengine-api-0.1.207 google-api-core-1.14.3 google-cloud-core-1.0.3 google-cloud-storage-1.23.0 google-resumable-media-0.5.0 googleapis-common-protos-1.6.0\n"
     ]
    }
   ],
   "source": [
    "# !pip install earthengine-api"
   ]
  },
  {
   "cell_type": "markdown",
   "metadata": {},
   "source": [
    "然后需要获取credentials才可以使用API，这是一个授权本地代表谷歌账号访问GEE的凭证。在终端使用下面命令：\n",
    "\n",
    "``` code\n",
    "earthengine authenticate\n",
    "```\n",
    "\n",
    "按照提示操作，会得到一个激活码，复制这个码，然后切回终端，粘贴这个激活码。点击回车，等待验证即可。然后试试运行下面的代码"
   ]
  },
  {
   "cell_type": "code",
   "execution_count": 1,
   "metadata": {},
   "outputs": [
    {
     "name": "stdout",
     "output_type": "stream",
     "text": [
      "https://earthengine.googleapis.com/api/download?docid=57067cb8d7f7618d88b4fa052546f82c&token=862ce318bdd6941f9d451822515ac089\n"
     ]
    }
   ],
   "source": [
    "import ee\n",
    "ee.Initialize()\n",
    "image1 = ee.Image('srtm90_v4')\n",
    "path = image1.getDownloadUrl({\n",
    "   'scale': 30,\n",
    "   'crs': 'EPSG:4326',\n",
    "   'region': '[[-120, 35], [-119, 35], [-119, 34], [-120, 34]]'\n",
    "})\n",
    "# 获取下载地址\n",
    "print(path)"
   ]
  },
  {
   "cell_type": "code",
   "execution_count": 2,
   "metadata": {},
   "outputs": [
    {
     "name": "stdout",
     "output_type": "stream",
     "text": [
      "{'type': 'Image', 'bands': [{'id': 'elevation', 'data_type': {'type': 'PixelType', 'precision': 'int', 'min': -32768, 'max': 32767}, 'dimensions': [1296001, 417601], 'crs': 'EPSG:4326', 'crs_transform': [0.0002777777777777778, 0, -180.0001388888889, 0, -0.0002777777777777778, 60.00013888888889]}], 'id': 'USGS/SRTMGL1_003', 'version': 1571719713605057, 'properties': {'system:visualization_0_min': '0.0', 'type_name': 'Image', 'thumb': 'https://mw1.google.com/ges/dd/images/SRTM90_V4_thumb.png', 'description': '<p>The Shuttle Radar Topography Mission (SRTM, see <a href=\"http://onlinelibrary.wiley.com/doi/10.1029/2005RG000183/full\">Farr\\net al. 2007</a>)\\ndigital elevation data is an international research effort that\\nobtained digital elevation models on a near-global scale. This\\nSRTM V3 product (SRTM Plus) is provided by NASA JPL\\nat a resolution of 1 arc-second (approximately 30m).</p><p>This dataset has undergone a void-filling process using open-source data\\n(ASTER GDEM2, GMTED2010, and NED), as opposed to other versions that\\ncontain voids or have been void-filled with commercial sources.\\nFor more information on the different versions see the\\n<a href=\"https://lpdaac.usgs.gov/sites/default/files/public/measures/docs/SRTM%20Quick%20Guide.pdf\">SRTM Quick Guide</a>.</p><p><b>Bands</b><table class=\"eecat\"><tr><th scope=\"col\">Name</th><th scope=\"col\">Units</th><th scope=\"col\">Min</th><th scope=\"col\">Max</th><th scope=\"col\">Resolution</th><th scope=\"col\">Description</th></tr><tr><td>elevation</td><td>Meters</td><td>\\n          -10*\\n</td><td>\\n          6500*\\n</td><td>\\n      30 meters\\n</td><td><p>Elevation</p></td></tr></table>\\n  * estimated min or max value\\n<p><b>Terms of Use</b><br><p>Unless otherwise noted, images and video on JPL public web sites (public sites ending with a jpl.nasa.gov address) may be used for any purpose without prior permission. For more information and exceptions visit the <a href=\"https://www.jpl.nasa.gov/imagepolicy/\">JPL Image Use Policy site</a>.</p><p><b>Suggested citation(s)</b><ul><li><p>Farr, T.G., Rosen, P.A., Caro, E., Crippen, R., Duren, R., Hensley, S., Kobrick, M., Paller, M., Rodriguez, E., Roth, L., Seal, D., Shaffer, S., Shimada, J., Umland, J., Werner, M., Oskin, M., Burbank, D., and Alsdorf, D.E., 2007, The shuttle radar topography mission: Reviews of Geophysics, v. 45, no. 2, RG2004, at <a href=\"https://doi.org/10.1029/2005RG000183\">https://doi.org/10.1029/2005RG000183</a>.</p></li></ul><style>\\n  table.eecat {\\n  border: 1px solid black;\\n  border-collapse: collapse;\\n  font-size: 13px;\\n  }\\n  table.eecat td, tr, th {\\n  text-align: left; vertical-align: top;\\n  border: 1px solid gray; padding: 3px;\\n  }\\n  td.nobreak { white-space: nowrap; }\\n</style>', 'source_tags': ['nasa', 'usgs'], 'visualization_0_max': '6000.0', 'title': 'SRTM Digital Elevation Data 30m', 'product_tags': ['srtm', 'elevation', 'topography', 'dem', 'geophysical'], 'provider': 'NASA / USGS / JPL-Caltech', 'visualization_0_min': '0.0', 'visualization_0_name': 'Elevation', 'date_range': [950227200000, 951177600000], 'system:visualization_0_gamma': '1.6', 'period': 0, 'system:visualization_0_bands': 'elevation', 'provider_url': 'http://www2.jpl.nasa.gov/srtm/', 'visualization_0_gamma': '1.6', 'sample': 'https://mw1.google.com/ges/dd/images/SRTM90_V4_sample.png', 'tags': ['nasa', 'usgs', 'srtm', 'elevation', 'topography', 'dem', 'geophysical'], 'system:visualization_0_max': '6000.0', 'system:visualization_0_name': 'Elevation', 'system:asset_size': 132792638252, 'visualization_0_bands': 'elevation'}}\n"
     ]
    }
   ],
   "source": [
    "import ee\n",
    "\n",
    "# Initialize the Earth Engine module.\n",
    "ee.Initialize()\n",
    "\n",
    "# Print metadata for a DEM dataset.\n",
    "print(ee.Image('USGS/SRTMGL1_003').getInfo())"
   ]
  },
  {
   "cell_type": "markdown",
   "metadata": {},
   "source": [
    "### 云端运行\n",
    "\n",
    "首先需要配置colab，这部分可以参考hydrus的colab配置。然后在云端配置GEE环境，并验证。colab每次重新加载进来之后都需要重新配置环境。配置代码和前面一样，不再赘述。\n",
    "\n",
    "## 命令行简介\n",
    "\n",
    "首先聊一下命令行的内容，这个在官方文档中有详细的介绍，这里我简单说一下常用的几个命令，剩余的大家在使用过程中如果又需要可以随时查看相关官方文档的介绍。官方文档地址：https://link.zhihu.com/?target=https%3A//developers.google.com/earth-engine/command_line  \n",
    "\n",
    "命令概览可以通过下面的命令行代码实现："
   ]
  },
  {
   "cell_type": "code",
   "execution_count": 3,
   "metadata": {},
   "outputs": [
    {
     "name": "stdout",
     "output_type": "stream",
     "text": [
      "usage: earthengine [-h] [--ee_config EE_CONFIG]\n",
      "                   [--service_account_file SERVICE_ACCOUNT_FILE]\n",
      "                   [--use_cloud_api] [--no-use_cloud_api]\n",
      "                   [--project PROJECT_OVERRIDE]\n",
      "                   {authenticate,acl,asset,cp,create,ls,licenses,du,mv,model,rm,set_project,task,unset_project,upload,upload_manifest,upload_table_manifest}\n",
      "                   ...\n",
      "\n",
      "Earth Engine Command Line Interface.\n",
      "\n",
      "optional arguments:\n",
      "  -h, --help            show this help message and exit\n",
      "  --ee_config EE_CONFIG\n",
      "                        Path to the earthengine configuration file. Defaults\n",
      "                        to \"~/.config/earthengine/credentials\".\n",
      "  --service_account_file SERVICE_ACCOUNT_FILE\n",
      "                        Path to a service account credentialsfile. Overrides\n",
      "                        any ee_config if specified.\n",
      "  --use_cloud_api       Enables the new experimental EE Cloud API backend. (on\n",
      "                        by default)\n",
      "  --no-use_cloud_api    Disables the new experimental EE Cloud API backend.\n",
      "  --project PROJECT_OVERRIDE\n",
      "                        Specifies a Google Cloud Platform Project id to\n",
      "                        override the call.\n",
      "\n",
      "Commands:\n",
      "  {authenticate,acl,asset,cp,create,ls,licenses,du,mv,model,rm,set_project,task,unset_project,upload,upload_manifest,upload_table_manifest}\n",
      "    authenticate        Prompts the user to authorize access to Earth Engine\n",
      "                        via OAuth2.\n",
      "    acl                 Prints or updates the access control list of the\n",
      "                        specified asset.\n",
      "    asset               Prints or updates metadata associated with an Earth\n",
      "                        Engine asset.\n",
      "    cp                  Creates a new Earth Engine asset as a copy of another\n",
      "                        asset.\n",
      "    create              Creates assets and folders.\n",
      "    ls                  Prints the contents of a folder or collection.\n",
      "    licenses            Prints the name and license of all third party\n",
      "                        dependencies.\n",
      "    du                  Prints the size and names of all items in a given\n",
      "                        folder or collection.\n",
      "    mv                  Moves or renames an Earth Engine asset.\n",
      "    model               TensorFlow model related commands.\n",
      "    rm                  Deletes the specified assets.\n",
      "    set_project         Sets the default user project to be used for all API\n",
      "                        calls.\n",
      "    task                Prints information about or manages long-running\n",
      "                        tasks.\n",
      "    unset_project       UnSets the default user project to be used for all API\n",
      "                        calls.\n",
      "    upload              Uploads assets to Earth Engine.\n",
      "    upload_manifest     Uploads an image to Earth Engine using the given\n",
      "                        manifest file.\n",
      "    upload_table_manifest\n",
      "                        Uploads a table to Earth Engine using the given\n",
      "                        manifest file.\n"
     ]
    }
   ],
   "source": [
    "!earthengine --help"
   ]
  },
  {
   "cell_type": "markdown",
   "metadata": {},
   "source": [
    "几个常用工具：\n",
    "\n",
    "- authenticate:认证本地账户。\n",
    "- acl: \n",
    "    - get 查询资源的信息\n",
    "    - set 将资源设置为公共或者私有\n",
    "- asset: \n",
    "    - info 查看资源的属性\n",
    "    - set 为资源设置特殊属性字段\n",
    "- cp: 复制一份新的资源\n",
    "- mv: 重命名资源\n",
    "\n",
    "## python API 基本使用介绍\n",
    "\n",
    "使用python api的一个好处是可以较好地使用python的一系列科学计算库，包括numpy，pandas等。以及机器学习计算库tensorflow等。tensorflow更是可以和GEE很好地协作。\n",
    "\n",
    "### 展示影像\n",
    "\n",
    "首先使用GEE的python版API在我们的代码最开始都需要加入以下代码："
   ]
  },
  {
   "cell_type": "code",
   "execution_count": 4,
   "metadata": {},
   "outputs": [],
   "source": [
    "import ee \n",
    "ee.Initialize() "
   ]
  },
  {
   "cell_type": "markdown",
   "metadata": {},
   "source": [
    "首先看看如何展示影像，这部分不像GEE的js api的界面那样很容易看到图形可视化，不过可以通过别的方式来展示。"
   ]
  },
  {
   "cell_type": "code",
   "execution_count": 1,
   "metadata": {},
   "outputs": [
    {
     "name": "stderr",
     "output_type": "stream",
     "text": [
      "[Errno 0] Error\n",
      "[Errno 0] Error\n"
     ]
    }
   ],
   "source": [
    "# Import the Earth Engine Python Packages\n",
    "import ee\n",
    "import ee.mapclient\n",
    " \n",
    "# Initialize the Earth Engine object, using the authentication credentials.\n",
    "ee.Initialize()\n",
    " \n",
    "# Print the information for an image asset.\n",
    "image = ee.Image('srtm90_v4')\n",
    " \n",
    "# create the vizualization parameters\n",
    "viz = {'min':0.0, 'max':4000, 'palette':\"000000,0000FF,FDFF92,FF2700,FF00E7\"};\n",
    " \n",
    "# display the map\n",
    "ee.mapclient.addToMap(image,viz, \"mymap\")"
   ]
  },
  {
   "cell_type": "markdown",
   "metadata": {},
   "source": [
    "上述代码貌似运行不太稳定，所以使用另一个第三方库[ipygee](https://link.zhihu.com/?target=https%3A//github.com/fitoprincipe/ipygee)\n",
    "\n",
    "首先安装该库。"
   ]
  },
  {
   "cell_type": "code",
   "execution_count": 1,
   "metadata": {},
   "outputs": [
    {
     "name": "stdout",
     "output_type": "stream",
     "text": [
      "Collecting ipygee\n",
      "  Downloading https://files.pythonhosted.org/packages/ff/00/cb0b98693209e9d19195bb93816fff79940ff0e88a8cc73d033ddfa52eda/ipygee-0.0.12.tar.gz\n",
      "Collecting ipyleaflet>=0.10.2\n",
      "\u001b[?25l  Downloading https://files.pythonhosted.org/packages/1d/13/5cbfbd9f7a62181d3ffa87d7d17479ba3a136fdaa96ea43fdf4691c7d6c8/ipyleaflet-0.11.6-py2.py3-none-any.whl (2.2MB)\n",
      "\u001b[K     |████████████████████████████████| 2.2MB 4.8MB/s eta 0:00:01\n",
      "\u001b[?25hCollecting pygal\n",
      "\u001b[?25l  Downloading https://files.pythonhosted.org/packages/5f/b7/201c9254ac0d2b8ffa3bb2d528d23a4130876d9ba90bc28e99633f323f17/pygal-2.4.0-py2.py3-none-any.whl (127kB)\n",
      "\u001b[K     |████████████████████████████████| 133kB 27.5MB/s eta 0:00:01\n",
      "\u001b[?25hRequirement already satisfied: pandas in /home/owen/anaconda3/lib/python3.7/site-packages (from ipygee) (0.25.3)\n",
      "Collecting geetools\n",
      "\u001b[?25l  Downloading https://files.pythonhosted.org/packages/7b/2a/e70f2cddfc6e2372edcee29579f182d32fa4a03f8eafd38b74e97f7f7226/geetools-0.4.13.tar.gz (73kB)\n",
      "\u001b[K     |████████████████████████████████| 81kB 13.8MB/s eta 0:00:01\n",
      "\u001b[?25hCollecting branca<0.4,>=0.3.1\n",
      "  Downloading https://files.pythonhosted.org/packages/63/36/1c93318e9653f4e414a2e0c3b98fc898b4970e939afeedeee6075dd3b703/branca-0.3.1-py3-none-any.whl\n",
      "Collecting traittypes<3,>=0.2.1\n",
      "  Downloading https://files.pythonhosted.org/packages/9c/d1/8d5bd662703cc1764d986f6908a608777305946fa634d34c470cd4a1e729/traittypes-0.2.1-py2.py3-none-any.whl\n",
      "Requirement already satisfied: ipywidgets<8,>=7.5.0 in /home/owen/anaconda3/lib/python3.7/site-packages (from ipyleaflet>=0.10.2->ipygee) (7.5.1)\n",
      "Collecting xarray>=0.10\n",
      "\u001b[?25l  Downloading https://files.pythonhosted.org/packages/a8/52/4a561281f536d0902d6279f47fd48894c2c7b7fb078816f18367e9ef46be/xarray-0.14.1-py3-none-any.whl (634kB)\n",
      "\u001b[K     |████████████████████████████████| 634kB 30.6MB/s eta 0:00:01\n",
      "\u001b[?25hRequirement already satisfied: python-dateutil>=2.6.1 in /home/owen/anaconda3/lib/python3.7/site-packages (from pandas->ipygee) (2.8.1)\n",
      "Requirement already satisfied: pytz>=2017.2 in /home/owen/anaconda3/lib/python3.7/site-packages (from pandas->ipygee) (2019.3)\n",
      "Requirement already satisfied: numpy>=1.13.3 in /home/owen/anaconda3/lib/python3.7/site-packages (from pandas->ipygee) (1.17.3)\n",
      "Requirement already satisfied: requests in /home/owen/anaconda3/lib/python3.7/site-packages (from geetools->ipygee) (2.22.0)\n",
      "Requirement already satisfied: Pillow in /home/owen/anaconda3/lib/python3.7/site-packages (from geetools->ipygee) (6.2.1)\n",
      "Requirement already satisfied: pyshp in /home/owen/anaconda3/lib/python3.7/site-packages (from geetools->ipygee) (2.1.0)\n",
      "Requirement already satisfied: jinja2 in /home/owen/anaconda3/lib/python3.7/site-packages (from branca<0.4,>=0.3.1->ipyleaflet>=0.10.2->ipygee) (2.10.3)\n",
      "Requirement already satisfied: six in /home/owen/anaconda3/lib/python3.7/site-packages (from branca<0.4,>=0.3.1->ipyleaflet>=0.10.2->ipygee) (1.13.0)\n",
      "Requirement already satisfied: traitlets>=4.2.2 in /home/owen/anaconda3/lib/python3.7/site-packages (from traittypes<3,>=0.2.1->ipyleaflet>=0.10.2->ipygee) (4.3.3)\n",
      "Requirement already satisfied: ipython>=4.0.0; python_version >= \"3.3\" in /home/owen/anaconda3/lib/python3.7/site-packages (from ipywidgets<8,>=7.5.0->ipyleaflet>=0.10.2->ipygee) (7.9.0)\n",
      "Requirement already satisfied: nbformat>=4.2.0 in /home/owen/anaconda3/lib/python3.7/site-packages (from ipywidgets<8,>=7.5.0->ipyleaflet>=0.10.2->ipygee) (4.4.0)\n",
      "Requirement already satisfied: ipykernel>=4.5.1 in /home/owen/anaconda3/lib/python3.7/site-packages (from ipywidgets<8,>=7.5.0->ipyleaflet>=0.10.2->ipygee) (5.1.3)\n",
      "Requirement already satisfied: widgetsnbextension~=3.5.0 in /home/owen/anaconda3/lib/python3.7/site-packages (from ipywidgets<8,>=7.5.0->ipyleaflet>=0.10.2->ipygee) (3.5.1)\n",
      "Requirement already satisfied: certifi>=2017.4.17 in /home/owen/anaconda3/lib/python3.7/site-packages (from requests->geetools->ipygee) (2019.9.11)\n",
      "Requirement already satisfied: chardet<3.1.0,>=3.0.2 in /home/owen/anaconda3/lib/python3.7/site-packages (from requests->geetools->ipygee) (3.0.4)\n",
      "Requirement already satisfied: idna<2.9,>=2.5 in /home/owen/anaconda3/lib/python3.7/site-packages (from requests->geetools->ipygee) (2.8)\n",
      "Requirement already satisfied: urllib3!=1.25.0,!=1.25.1,<1.26,>=1.21.1 in /home/owen/anaconda3/lib/python3.7/site-packages (from requests->geetools->ipygee) (1.24.2)\n",
      "Requirement already satisfied: MarkupSafe>=0.23 in /home/owen/anaconda3/lib/python3.7/site-packages (from jinja2->branca<0.4,>=0.3.1->ipyleaflet>=0.10.2->ipygee) (1.1.1)\n",
      "Requirement already satisfied: decorator in /home/owen/anaconda3/lib/python3.7/site-packages (from traitlets>=4.2.2->traittypes<3,>=0.2.1->ipyleaflet>=0.10.2->ipygee) (4.4.1)\n",
      "Requirement already satisfied: ipython-genutils in /home/owen/anaconda3/lib/python3.7/site-packages (from traitlets>=4.2.2->traittypes<3,>=0.2.1->ipyleaflet>=0.10.2->ipygee) (0.2.0)\n",
      "Requirement already satisfied: pickleshare in /home/owen/anaconda3/lib/python3.7/site-packages (from ipython>=4.0.0; python_version >= \"3.3\"->ipywidgets<8,>=7.5.0->ipyleaflet>=0.10.2->ipygee) (0.7.5)\n",
      "Requirement already satisfied: prompt-toolkit<2.1.0,>=2.0.0 in /home/owen/anaconda3/lib/python3.7/site-packages (from ipython>=4.0.0; python_version >= \"3.3\"->ipywidgets<8,>=7.5.0->ipyleaflet>=0.10.2->ipygee) (2.0.10)\n",
      "Requirement already satisfied: pexpect; sys_platform != \"win32\" in /home/owen/anaconda3/lib/python3.7/site-packages (from ipython>=4.0.0; python_version >= \"3.3\"->ipywidgets<8,>=7.5.0->ipyleaflet>=0.10.2->ipygee) (4.7.0)\n",
      "Requirement already satisfied: jedi>=0.10 in /home/owen/anaconda3/lib/python3.7/site-packages (from ipython>=4.0.0; python_version >= \"3.3\"->ipywidgets<8,>=7.5.0->ipyleaflet>=0.10.2->ipygee) (0.15.1)\n",
      "Requirement already satisfied: setuptools>=18.5 in /home/owen/anaconda3/lib/python3.7/site-packages (from ipython>=4.0.0; python_version >= \"3.3\"->ipywidgets<8,>=7.5.0->ipyleaflet>=0.10.2->ipygee) (41.6.0.post20191030)\n",
      "Requirement already satisfied: pygments in /home/owen/anaconda3/lib/python3.7/site-packages (from ipython>=4.0.0; python_version >= \"3.3\"->ipywidgets<8,>=7.5.0->ipyleaflet>=0.10.2->ipygee) (2.4.2)\n",
      "Requirement already satisfied: backcall in /home/owen/anaconda3/lib/python3.7/site-packages (from ipython>=4.0.0; python_version >= \"3.3\"->ipywidgets<8,>=7.5.0->ipyleaflet>=0.10.2->ipygee) (0.1.0)\n",
      "Requirement already satisfied: jsonschema!=2.5.0,>=2.4 in /home/owen/anaconda3/lib/python3.7/site-packages (from nbformat>=4.2.0->ipywidgets<8,>=7.5.0->ipyleaflet>=0.10.2->ipygee) (3.2.0)\n",
      "Requirement already satisfied: jupyter-core in /home/owen/anaconda3/lib/python3.7/site-packages (from nbformat>=4.2.0->ipywidgets<8,>=7.5.0->ipyleaflet>=0.10.2->ipygee) (4.6.1)\n",
      "Requirement already satisfied: jupyter-client in /home/owen/anaconda3/lib/python3.7/site-packages (from ipykernel>=4.5.1->ipywidgets<8,>=7.5.0->ipyleaflet>=0.10.2->ipygee) (5.3.4)\n",
      "Requirement already satisfied: tornado>=4.2 in /home/owen/anaconda3/lib/python3.7/site-packages (from ipykernel>=4.5.1->ipywidgets<8,>=7.5.0->ipyleaflet>=0.10.2->ipygee) (6.0.3)\n",
      "Requirement already satisfied: notebook>=4.4.1 in /home/owen/anaconda3/lib/python3.7/site-packages (from widgetsnbextension~=3.5.0->ipywidgets<8,>=7.5.0->ipyleaflet>=0.10.2->ipygee) (6.0.2)\n",
      "Requirement already satisfied: wcwidth in /home/owen/anaconda3/lib/python3.7/site-packages (from prompt-toolkit<2.1.0,>=2.0.0->ipython>=4.0.0; python_version >= \"3.3\"->ipywidgets<8,>=7.5.0->ipyleaflet>=0.10.2->ipygee) (0.1.7)\n",
      "Requirement already satisfied: ptyprocess>=0.5 in /home/owen/anaconda3/lib/python3.7/site-packages (from pexpect; sys_platform != \"win32\"->ipython>=4.0.0; python_version >= \"3.3\"->ipywidgets<8,>=7.5.0->ipyleaflet>=0.10.2->ipygee) (0.6.0)\n",
      "Requirement already satisfied: parso>=0.5.0 in /home/owen/anaconda3/lib/python3.7/site-packages (from jedi>=0.10->ipython>=4.0.0; python_version >= \"3.3\"->ipywidgets<8,>=7.5.0->ipyleaflet>=0.10.2->ipygee) (0.5.1)\n",
      "Requirement already satisfied: pyrsistent>=0.14.0 in /home/owen/anaconda3/lib/python3.7/site-packages (from jsonschema!=2.5.0,>=2.4->nbformat>=4.2.0->ipywidgets<8,>=7.5.0->ipyleaflet>=0.10.2->ipygee) (0.15.5)\n",
      "Requirement already satisfied: importlib-metadata; python_version < \"3.8\" in /home/owen/anaconda3/lib/python3.7/site-packages (from jsonschema!=2.5.0,>=2.4->nbformat>=4.2.0->ipywidgets<8,>=7.5.0->ipyleaflet>=0.10.2->ipygee) (0.23)\n",
      "Requirement already satisfied: attrs>=17.4.0 in /home/owen/anaconda3/lib/python3.7/site-packages (from jsonschema!=2.5.0,>=2.4->nbformat>=4.2.0->ipywidgets<8,>=7.5.0->ipyleaflet>=0.10.2->ipygee) (19.3.0)\n",
      "Requirement already satisfied: pyzmq>=13 in /home/owen/anaconda3/lib/python3.7/site-packages (from jupyter-client->ipykernel>=4.5.1->ipywidgets<8,>=7.5.0->ipyleaflet>=0.10.2->ipygee) (18.1.0)\n",
      "Requirement already satisfied: Send2Trash in /home/owen/anaconda3/lib/python3.7/site-packages (from notebook>=4.4.1->widgetsnbextension~=3.5.0->ipywidgets<8,>=7.5.0->ipyleaflet>=0.10.2->ipygee) (1.5.0)\n",
      "Requirement already satisfied: nbconvert in /home/owen/anaconda3/lib/python3.7/site-packages (from notebook>=4.4.1->widgetsnbextension~=3.5.0->ipywidgets<8,>=7.5.0->ipyleaflet>=0.10.2->ipygee) (5.6.1)\n",
      "Requirement already satisfied: prometheus-client in /home/owen/anaconda3/lib/python3.7/site-packages (from notebook>=4.4.1->widgetsnbextension~=3.5.0->ipywidgets<8,>=7.5.0->ipyleaflet>=0.10.2->ipygee) (0.7.1)\n",
      "Requirement already satisfied: terminado>=0.8.1 in /home/owen/anaconda3/lib/python3.7/site-packages (from notebook>=4.4.1->widgetsnbextension~=3.5.0->ipywidgets<8,>=7.5.0->ipyleaflet>=0.10.2->ipygee) (0.8.3)\n",
      "Requirement already satisfied: zipp>=0.5 in /home/owen/anaconda3/lib/python3.7/site-packages (from importlib-metadata; python_version < \"3.8\"->jsonschema!=2.5.0,>=2.4->nbformat>=4.2.0->ipywidgets<8,>=7.5.0->ipyleaflet>=0.10.2->ipygee) (0.6.0)\n",
      "Requirement already satisfied: defusedxml in /home/owen/anaconda3/lib/python3.7/site-packages (from nbconvert->notebook>=4.4.1->widgetsnbextension~=3.5.0->ipywidgets<8,>=7.5.0->ipyleaflet>=0.10.2->ipygee) (0.6.0)\n",
      "Requirement already satisfied: pandocfilters>=1.4.1 in /home/owen/anaconda3/lib/python3.7/site-packages (from nbconvert->notebook>=4.4.1->widgetsnbextension~=3.5.0->ipywidgets<8,>=7.5.0->ipyleaflet>=0.10.2->ipygee) (1.4.2)\n",
      "Requirement already satisfied: entrypoints>=0.2.2 in /home/owen/anaconda3/lib/python3.7/site-packages (from nbconvert->notebook>=4.4.1->widgetsnbextension~=3.5.0->ipywidgets<8,>=7.5.0->ipyleaflet>=0.10.2->ipygee) (0.3)\n",
      "Requirement already satisfied: bleach in /home/owen/anaconda3/lib/python3.7/site-packages (from nbconvert->notebook>=4.4.1->widgetsnbextension~=3.5.0->ipywidgets<8,>=7.5.0->ipyleaflet>=0.10.2->ipygee) (3.1.0)\n",
      "Requirement already satisfied: testpath in /home/owen/anaconda3/lib/python3.7/site-packages (from nbconvert->notebook>=4.4.1->widgetsnbextension~=3.5.0->ipywidgets<8,>=7.5.0->ipyleaflet>=0.10.2->ipygee) (0.4.4)\n",
      "Requirement already satisfied: mistune<2,>=0.8.1 in /home/owen/anaconda3/lib/python3.7/site-packages (from nbconvert->notebook>=4.4.1->widgetsnbextension~=3.5.0->ipywidgets<8,>=7.5.0->ipyleaflet>=0.10.2->ipygee) (0.8.4)\n",
      "Requirement already satisfied: more-itertools in /home/owen/anaconda3/lib/python3.7/site-packages (from zipp>=0.5->importlib-metadata; python_version < \"3.8\"->jsonschema!=2.5.0,>=2.4->nbformat>=4.2.0->ipywidgets<8,>=7.5.0->ipyleaflet>=0.10.2->ipygee) (7.2.0)\n",
      "Requirement already satisfied: webencodings in /home/owen/anaconda3/lib/python3.7/site-packages (from bleach->nbconvert->notebook>=4.4.1->widgetsnbextension~=3.5.0->ipywidgets<8,>=7.5.0->ipyleaflet>=0.10.2->ipygee) (0.5.1)\n",
      "Building wheels for collected packages: ipygee, geetools\n",
      "  Building wheel for ipygee (setup.py) ... \u001b[?25ldone\n",
      "\u001b[?25h  Created wheel for ipygee: filename=ipygee-0.0.12-cp37-none-any.whl size=38249 sha256=341d3c6efb3cd38e9d6af377b0ad56fa839518dbab2da65b6c4f18a43ad58ef7\n",
      "  Stored in directory: /home/owen/.cache/pip/wheels/88/31/67/db3aa9dc1e25ceec472e13c1336cadf8acc1c6ae247a0f8d36\n",
      "  Building wheel for geetools (setup.py) ... \u001b[?25ldone\n",
      "\u001b[?25h  Created wheel for geetools: filename=geetools-0.4.13-cp37-none-any.whl size=96148 sha256=00199b8d53da63fb835f8dde935ab4346e073326d31c31289848555c446b8033\n",
      "  Stored in directory: /home/owen/.cache/pip/wheels/02/89/a3/1cceb1525740f73dd5caa9e09cb8821f1113881ca84832fee6\n",
      "Successfully built ipygee geetools\n",
      "Installing collected packages: branca, traittypes, xarray, ipyleaflet, pygal, geetools, ipygee\n",
      "Successfully installed branca-0.3.1 geetools-0.4.13 ipygee-0.0.12 ipyleaflet-0.11.6 pygal-2.4.0 traittypes-0.2.1 xarray-0.14.1\n"
     ]
    }
   ],
   "source": [
    "# !pip install ipygee"
   ]
  },
  {
   "cell_type": "markdown",
   "metadata": {},
   "source": [
    "然后还需要激活ipyleaflet在jupyter上的插件，首先安装nbextension。\n",
    "\n",
    "``` code\n",
    "pip install jupyter_contrib_nbextensions \n",
    "jupyter contrib nbextension install --user \n",
    "pip install jupyter_nbextensions_configurator \n",
    "```\n",
    "\n",
    "然后要在jupyter lab上用，还需要安装nodejs和jupyter-manager。安装过程参考本文最前面的“参考资料”。这里直接给出全部代码：\n",
    "\n",
    "```code\n",
    "sudo apt update\n",
    "sudo apt install nodejs\n",
    "sudo apt install npm\n",
    "nodejs -v   # 检查是否安装成功\n",
    "conda install -c conda-forge ipyleaflet\n",
    "jupyter labextension install jupyter-leaflet\n",
    "jupyter labextension install @jupyter-widgets/jupyterlab-manager\n",
    "```\n",
    "\n",
    "接下来尝试使用ipygee"
   ]
  },
  {
   "cell_type": "code",
   "execution_count": 1,
   "metadata": {},
   "outputs": [
    {
     "data": {
      "application/vnd.jupyter.widget-view+json": {
       "model_id": "76823ab2490f4927993232723eece8f0",
       "version_major": 2,
       "version_minor": 0
      },
      "text/plain": [
       "Map(basemap={'url': 'https://{s}.tile.openstreetmap.org/{z}/{x}/{y}.png', 'max_zoom': 19, 'attribution': 'Map …"
      ]
     },
     "metadata": {},
     "output_type": "display_data"
    },
    {
     "data": {
      "application/vnd.jupyter.widget-view+json": {
       "model_id": "b456df1d5cf74c2b956b0c32e2fe8514",
       "version_major": 2,
       "version_minor": 0
      },
      "text/plain": [
       "Tab(children=(CustomInspector(children=(SelectMultiple(options=OrderedDict(), value=()), Accordion(selected_in…"
      ]
     },
     "metadata": {},
     "output_type": "display_data"
    }
   ],
   "source": [
    "import ee \n",
    "ee.Initialize() \n",
    "# 展示地图 \n",
    "from ipygee import Map \n",
    "myMap = Map() \n",
    "myMap.show() "
   ]
  },
  {
   "cell_type": "code",
   "execution_count": 2,
   "metadata": {},
   "outputs": [
    {
     "data": {
      "application/vnd.jupyter.widget-view+json": {
       "model_id": "bac117d7b96f4ceb9891d6750b6e10a1",
       "version_major": 2,
       "version_minor": 0
      },
      "text/plain": [
       "AssetManager(children=(HTML(value='<strong>User:</strong> projects/earthengine-legacy/assets/users/wenyu_ouyan…"
      ]
     },
     "metadata": {},
     "output_type": "display_data"
    }
   ],
   "source": [
    "# 资源管理器，也就是GEE在线编辑的Assets Manager界面 \n",
    "from ipygee import AssetManager \n",
    "myManager = AssetManager() \n",
    "myManager "
   ]
  },
  {
   "cell_type": "code",
   "execution_count": 3,
   "metadata": {},
   "outputs": [
    {
     "data": {
      "application/vnd.jupyter.widget-view+json": {
       "model_id": "9b991bc0090249a6b27babb2c4d0686b",
       "version_major": 2,
       "version_minor": 0
      },
      "text/plain": [
       "TaskManager(children=(HBox(children=(Checkbox(value=False, indent=False, layout=Layout(flex='1 1 20', width='a…"
      ]
     },
     "metadata": {},
     "output_type": "display_data"
    }
   ],
   "source": [
    "# 任务管理器，也就是GEE的Task列表 \n",
    "from ipygee import TaskManager \n",
    "myTask = TaskManager() \n",
    "myTask "
   ]
  },
  {
   "cell_type": "code",
   "execution_count": 5,
   "metadata": {},
   "outputs": [
    {
     "data": {
      "application/vnd.jupyter.widget-view+json": {
       "model_id": "2d10fac9c1544674a6becdc1f89ae2cf",
       "version_major": 2,
       "version_minor": 0
      },
      "text/plain": [
       "Map(basemap={'url': 'https://{s}.tile.openstreetmap.org/{z}/{x}/{y}.png', 'max_zoom': 19, 'attribution': 'Map …"
      ]
     },
     "metadata": {},
     "output_type": "display_data"
    },
    {
     "data": {
      "application/vnd.jupyter.widget-view+json": {
       "model_id": "b8a879891b414b84801fffaea1c370d0",
       "version_major": 2,
       "version_minor": 0
      },
      "text/plain": [
       "Tab(children=(CustomInspector(children=(SelectMultiple(options=OrderedDict(), value=()), Accordion(selected_in…"
      ]
     },
     "metadata": {},
     "output_type": "display_data"
    },
    {
     "ename": "EEException",
     "evalue": "Collection.geometry: Geometry has too many edges (4317588 > 2000000).",
     "output_type": "error",
     "traceback": [
      "\u001b[0;31m---------------------------------------------------------------------------\u001b[0m",
      "\u001b[0;31mHttpError\u001b[0m                                 Traceback (most recent call last)",
      "\u001b[0;32m~/anaconda3/lib/python3.7/site-packages/ee/data.py\u001b[0m in \u001b[0;36m_execute_cloud_call\u001b[0;34m(call, num_retries)\u001b[0m\n\u001b[1;32m    337\u001b[0m   \u001b[0;32mtry\u001b[0m\u001b[0;34m:\u001b[0m\u001b[0;34m\u001b[0m\u001b[0;34m\u001b[0m\u001b[0m\n\u001b[0;32m--> 338\u001b[0;31m     \u001b[0;32mreturn\u001b[0m \u001b[0mcall\u001b[0m\u001b[0;34m.\u001b[0m\u001b[0mexecute\u001b[0m\u001b[0;34m(\u001b[0m\u001b[0mnum_retries\u001b[0m\u001b[0;34m=\u001b[0m\u001b[0mnum_retries\u001b[0m\u001b[0;34m)\u001b[0m\u001b[0;34m\u001b[0m\u001b[0;34m\u001b[0m\u001b[0m\n\u001b[0m\u001b[1;32m    339\u001b[0m   \u001b[0;32mexcept\u001b[0m \u001b[0mapiclient\u001b[0m\u001b[0;34m.\u001b[0m\u001b[0merrors\u001b[0m\u001b[0;34m.\u001b[0m\u001b[0mHttpError\u001b[0m \u001b[0;32mas\u001b[0m \u001b[0me\u001b[0m\u001b[0;34m:\u001b[0m\u001b[0;34m\u001b[0m\u001b[0;34m\u001b[0m\u001b[0m\n",
      "\u001b[0;32m~/anaconda3/lib/python3.7/site-packages/googleapiclient/_helpers.py\u001b[0m in \u001b[0;36mpositional_wrapper\u001b[0;34m(*args, **kwargs)\u001b[0m\n\u001b[1;32m    129\u001b[0m                     \u001b[0mlogger\u001b[0m\u001b[0;34m.\u001b[0m\u001b[0mwarning\u001b[0m\u001b[0;34m(\u001b[0m\u001b[0mmessage\u001b[0m\u001b[0;34m)\u001b[0m\u001b[0;34m\u001b[0m\u001b[0;34m\u001b[0m\u001b[0m\n\u001b[0;32m--> 130\u001b[0;31m             \u001b[0;32mreturn\u001b[0m \u001b[0mwrapped\u001b[0m\u001b[0;34m(\u001b[0m\u001b[0;34m*\u001b[0m\u001b[0margs\u001b[0m\u001b[0;34m,\u001b[0m \u001b[0;34m**\u001b[0m\u001b[0mkwargs\u001b[0m\u001b[0;34m)\u001b[0m\u001b[0;34m\u001b[0m\u001b[0;34m\u001b[0m\u001b[0m\n\u001b[0m\u001b[1;32m    131\u001b[0m         \u001b[0;32mreturn\u001b[0m \u001b[0mpositional_wrapper\u001b[0m\u001b[0;34m\u001b[0m\u001b[0;34m\u001b[0m\u001b[0m\n",
      "\u001b[0;32m~/anaconda3/lib/python3.7/site-packages/googleapiclient/http.py\u001b[0m in \u001b[0;36mexecute\u001b[0;34m(self, http, num_retries)\u001b[0m\n\u001b[1;32m    855\u001b[0m     \u001b[0;32mif\u001b[0m \u001b[0mresp\u001b[0m\u001b[0;34m.\u001b[0m\u001b[0mstatus\u001b[0m \u001b[0;34m>=\u001b[0m \u001b[0;36m300\u001b[0m\u001b[0;34m:\u001b[0m\u001b[0;34m\u001b[0m\u001b[0;34m\u001b[0m\u001b[0m\n\u001b[0;32m--> 856\u001b[0;31m       \u001b[0;32mraise\u001b[0m \u001b[0mHttpError\u001b[0m\u001b[0;34m(\u001b[0m\u001b[0mresp\u001b[0m\u001b[0;34m,\u001b[0m \u001b[0mcontent\u001b[0m\u001b[0;34m,\u001b[0m \u001b[0muri\u001b[0m\u001b[0;34m=\u001b[0m\u001b[0mself\u001b[0m\u001b[0;34m.\u001b[0m\u001b[0muri\u001b[0m\u001b[0;34m)\u001b[0m\u001b[0;34m\u001b[0m\u001b[0;34m\u001b[0m\u001b[0m\n\u001b[0m\u001b[1;32m    857\u001b[0m     \u001b[0;32mreturn\u001b[0m \u001b[0mself\u001b[0m\u001b[0;34m.\u001b[0m\u001b[0mpostproc\u001b[0m\u001b[0;34m(\u001b[0m\u001b[0mresp\u001b[0m\u001b[0;34m,\u001b[0m \u001b[0mcontent\u001b[0m\u001b[0;34m)\u001b[0m\u001b[0;34m\u001b[0m\u001b[0;34m\u001b[0m\u001b[0m\n",
      "\u001b[0;31mHttpError\u001b[0m: <HttpError 400 when requesting https://earthengine.googleapis.com/v1alpha/projects/earthengine-legacy/value:compute?prettyPrint=false&alt=json returned \"Collection.geometry: Geometry has too many edges (4317588 > 2000000).\">",
      "\nDuring handling of the above exception, another exception occurred:\n",
      "\u001b[0;31mEEException\u001b[0m                               Traceback (most recent call last)",
      "\u001b[0;32m<ipython-input-5-a421ab154488>\u001b[0m in \u001b[0;36m<module>\u001b[0;34m\u001b[0m\n\u001b[1;32m      9\u001b[0m \u001b[0mroi\u001b[0m \u001b[0;34m=\u001b[0m \u001b[0mee\u001b[0m\u001b[0;34m.\u001b[0m\u001b[0mFeatureCollection\u001b[0m\u001b[0;34m(\u001b[0m\u001b[0;34m\"users/wenyu_ouyang/HCDN_nhru_final_671\"\u001b[0m\u001b[0;34m)\u001b[0m\u001b[0;34m\u001b[0m\u001b[0;34m\u001b[0m\u001b[0m\n\u001b[1;32m     10\u001b[0m \u001b[0;31m# 缩放到指定级别\u001b[0m\u001b[0;34m\u001b[0m\u001b[0;34m\u001b[0m\u001b[0;34m\u001b[0m\u001b[0m\n\u001b[0;32m---> 11\u001b[0;31m \u001b[0mmyMap\u001b[0m\u001b[0;34m.\u001b[0m\u001b[0mcenterObject\u001b[0m\u001b[0;34m(\u001b[0m\u001b[0mroi\u001b[0m\u001b[0;34m,\u001b[0m \u001b[0;36m5\u001b[0m\u001b[0;34m)\u001b[0m\u001b[0;34m\u001b[0m\u001b[0;34m\u001b[0m\u001b[0m\n\u001b[0m\u001b[1;32m     12\u001b[0m \u001b[0;31m# 裁剪数据\u001b[0m\u001b[0;34m\u001b[0m\u001b[0;34m\u001b[0m\u001b[0;34m\u001b[0m\u001b[0m\n\u001b[1;32m     13\u001b[0m \u001b[0mimg\u001b[0m \u001b[0;34m=\u001b[0m \u001b[0mimg\u001b[0m\u001b[0;34m.\u001b[0m\u001b[0mclip\u001b[0m\u001b[0;34m(\u001b[0m\u001b[0mroi\u001b[0m\u001b[0;34m)\u001b[0m\u001b[0;34m\u001b[0m\u001b[0;34m\u001b[0m\u001b[0m\n",
      "\u001b[0;32m~/anaconda3/lib/python3.7/site-packages/ipygee/map.py\u001b[0m in \u001b[0;36mcenterObject\u001b[0;34m(self, eeObject, zoom, method)\u001b[0m\n\u001b[1;32m    647\u001b[0m         \u001b[0;34m:\u001b[0m\u001b[0mtype\u001b[0m\u001b[0;34m:\u001b[0m \u001b[0mint\u001b[0m\u001b[0;34m\u001b[0m\u001b[0;34m\u001b[0m\u001b[0m\n\u001b[1;32m    648\u001b[0m         \"\"\"\n\u001b[0;32m--> 649\u001b[0;31m         \u001b[0mbounds\u001b[0m \u001b[0;34m=\u001b[0m \u001b[0mgetBounds\u001b[0m\u001b[0;34m(\u001b[0m\u001b[0meeObject\u001b[0m\u001b[0;34m)\u001b[0m\u001b[0;34m\u001b[0m\u001b[0;34m\u001b[0m\u001b[0m\n\u001b[0m\u001b[1;32m    650\u001b[0m         \u001b[0;32mif\u001b[0m \u001b[0mbounds\u001b[0m\u001b[0;34m:\u001b[0m\u001b[0;34m\u001b[0m\u001b[0;34m\u001b[0m\u001b[0m\n\u001b[1;32m    651\u001b[0m             \u001b[0;32mtry\u001b[0m\u001b[0;34m:\u001b[0m\u001b[0;34m\u001b[0m\u001b[0;34m\u001b[0m\u001b[0m\n",
      "\u001b[0;32m~/anaconda3/lib/python3.7/site-packages/ipygee/maptools.py\u001b[0m in \u001b[0;36mgetBounds\u001b[0;34m(eeObject)\u001b[0m\n\u001b[1;32m     19\u001b[0m                 \u001b[0meeObject\u001b[0m \u001b[0;34m=\u001b[0m \u001b[0meeObject\u001b[0m\u001b[0;34m.\u001b[0m\u001b[0mbuffer\u001b[0m\u001b[0;34m(\u001b[0m\u001b[0;36m1000\u001b[0m\u001b[0;34m)\u001b[0m\u001b[0;34m\u001b[0m\u001b[0;34m\u001b[0m\u001b[0m\n\u001b[1;32m     20\u001b[0m \u001b[0;34m\u001b[0m\u001b[0m\n\u001b[0;32m---> 21\u001b[0;31m         \u001b[0mbounds\u001b[0m \u001b[0;34m=\u001b[0m \u001b[0mtools\u001b[0m\u001b[0;34m.\u001b[0m\u001b[0mgeometry\u001b[0m\u001b[0;34m.\u001b[0m\u001b[0mgetRegion\u001b[0m\u001b[0;34m(\u001b[0m\u001b[0meeObject\u001b[0m\u001b[0;34m,\u001b[0m \u001b[0;32mTrue\u001b[0m\u001b[0;34m)\u001b[0m\u001b[0;34m\u001b[0m\u001b[0;34m\u001b[0m\u001b[0m\n\u001b[0m\u001b[1;32m     22\u001b[0m \u001b[0;34m\u001b[0m\u001b[0m\n\u001b[1;32m     23\u001b[0m     \u001b[0;31m# Catch unbounded images\u001b[0m\u001b[0;34m\u001b[0m\u001b[0;34m\u001b[0m\u001b[0;34m\u001b[0m\u001b[0m\n",
      "\u001b[0;32m~/anaconda3/lib/python3.7/site-packages/geetools/tools/geometry.py\u001b[0m in \u001b[0;36mgetRegion\u001b[0;34m(eeobject, bounds, error)\u001b[0m\n\u001b[1;32m     92\u001b[0m         \u001b[0;32melse\u001b[0m\u001b[0;34m:\u001b[0m\u001b[0;34m\u001b[0m\u001b[0;34m\u001b[0m\u001b[0m\n\u001b[1;32m     93\u001b[0m             \u001b[0mgeometry\u001b[0m \u001b[0;34m=\u001b[0m \u001b[0meeobject\u001b[0m\u001b[0;34m.\u001b[0m\u001b[0mgeometry\u001b[0m\u001b[0;34m(\u001b[0m\u001b[0merror\u001b[0m\u001b[0;34m)\u001b[0m\u001b[0;34m.\u001b[0m\u001b[0mdissolve\u001b[0m\u001b[0;34m(\u001b[0m\u001b[0;34m)\u001b[0m\u001b[0;34m\u001b[0m\u001b[0;34m\u001b[0m\u001b[0m\n\u001b[0;32m---> 94\u001b[0;31m         \u001b[0mregion\u001b[0m \u001b[0;34m=\u001b[0m \u001b[0mdispatch\u001b[0m\u001b[0;34m(\u001b[0m\u001b[0mgeometry\u001b[0m\u001b[0;34m)\u001b[0m\u001b[0;34m\u001b[0m\u001b[0;34m\u001b[0m\u001b[0m\n\u001b[0m\u001b[1;32m     95\u001b[0m     \u001b[0;31m# List\u001b[0m\u001b[0;34m\u001b[0m\u001b[0;34m\u001b[0m\u001b[0;34m\u001b[0m\u001b[0m\n\u001b[1;32m     96\u001b[0m     \u001b[0;32melif\u001b[0m \u001b[0misinstance\u001b[0m\u001b[0;34m(\u001b[0m\u001b[0meeobject\u001b[0m\u001b[0;34m,\u001b[0m \u001b[0mlist\u001b[0m\u001b[0;34m)\u001b[0m\u001b[0;34m:\u001b[0m\u001b[0;34m\u001b[0m\u001b[0;34m\u001b[0m\u001b[0m\n",
      "\u001b[0;32m~/anaconda3/lib/python3.7/site-packages/geetools/tools/geometry.py\u001b[0m in \u001b[0;36mdispatch\u001b[0;34m(geometry)\u001b[0m\n\u001b[1;32m     64\u001b[0m     \"\"\"\n\u001b[1;32m     65\u001b[0m     \u001b[0;32mdef\u001b[0m \u001b[0mdispatch\u001b[0m\u001b[0;34m(\u001b[0m\u001b[0mgeometry\u001b[0m\u001b[0;34m)\u001b[0m\u001b[0;34m:\u001b[0m\u001b[0;34m\u001b[0m\u001b[0;34m\u001b[0m\u001b[0m\n\u001b[0;32m---> 66\u001b[0;31m         \u001b[0minfo\u001b[0m \u001b[0;34m=\u001b[0m \u001b[0mgeometry\u001b[0m\u001b[0;34m.\u001b[0m\u001b[0mgetInfo\u001b[0m\u001b[0;34m(\u001b[0m\u001b[0;34m)\u001b[0m\u001b[0;34m\u001b[0m\u001b[0;34m\u001b[0m\u001b[0m\n\u001b[0m\u001b[1;32m     67\u001b[0m         \u001b[0mgeomtype\u001b[0m \u001b[0;34m=\u001b[0m \u001b[0minfo\u001b[0m\u001b[0;34m[\u001b[0m\u001b[0;34m'type'\u001b[0m\u001b[0;34m]\u001b[0m\u001b[0;34m\u001b[0m\u001b[0;34m\u001b[0m\u001b[0m\n\u001b[1;32m     68\u001b[0m         \u001b[0;32mif\u001b[0m \u001b[0mgeomtype\u001b[0m \u001b[0;34m==\u001b[0m \u001b[0;34m'GeometryCollection'\u001b[0m\u001b[0;34m:\u001b[0m\u001b[0;34m\u001b[0m\u001b[0;34m\u001b[0m\u001b[0m\n",
      "\u001b[0;32m~/anaconda3/lib/python3.7/site-packages/ee/computedobject.py\u001b[0m in \u001b[0;36mgetInfo\u001b[0;34m(self)\u001b[0m\n\u001b[1;32m     93\u001b[0m       \u001b[0mThe\u001b[0m \u001b[0mobject\u001b[0m \u001b[0mcan\u001b[0m \u001b[0mevaluate\u001b[0m \u001b[0mto\u001b[0m \u001b[0manything\u001b[0m\u001b[0;34m.\u001b[0m\u001b[0;34m\u001b[0m\u001b[0;34m\u001b[0m\u001b[0m\n\u001b[1;32m     94\u001b[0m     \"\"\"\n\u001b[0;32m---> 95\u001b[0;31m     \u001b[0;32mreturn\u001b[0m \u001b[0mdata\u001b[0m\u001b[0;34m.\u001b[0m\u001b[0mcomputeValue\u001b[0m\u001b[0;34m(\u001b[0m\u001b[0mself\u001b[0m\u001b[0;34m)\u001b[0m\u001b[0;34m\u001b[0m\u001b[0;34m\u001b[0m\u001b[0m\n\u001b[0m\u001b[1;32m     96\u001b[0m \u001b[0;34m\u001b[0m\u001b[0m\n\u001b[1;32m     97\u001b[0m   \u001b[0;32mdef\u001b[0m \u001b[0mencode\u001b[0m\u001b[0;34m(\u001b[0m\u001b[0mself\u001b[0m\u001b[0;34m,\u001b[0m \u001b[0mencoder\u001b[0m\u001b[0;34m)\u001b[0m\u001b[0;34m:\u001b[0m\u001b[0;34m\u001b[0m\u001b[0;34m\u001b[0m\u001b[0m\n",
      "\u001b[0;32m~/anaconda3/lib/python3.7/site-packages/ee/data.py\u001b[0m in \u001b[0;36mcomputeValue\u001b[0;34m(obj)\u001b[0m\n\u001b[1;32m    715\u001b[0m         \u001b[0mbody\u001b[0m\u001b[0;34m=\u001b[0m\u001b[0;34m{\u001b[0m\u001b[0;34m'expression'\u001b[0m\u001b[0;34m:\u001b[0m \u001b[0mserializer\u001b[0m\u001b[0;34m.\u001b[0m\u001b[0mencode\u001b[0m\u001b[0;34m(\u001b[0m\u001b[0mobj\u001b[0m\u001b[0;34m,\u001b[0m \u001b[0mfor_cloud_api\u001b[0m\u001b[0;34m=\u001b[0m\u001b[0;32mTrue\u001b[0m\u001b[0;34m)\u001b[0m\u001b[0;34m}\u001b[0m\u001b[0;34m,\u001b[0m\u001b[0;34m\u001b[0m\u001b[0;34m\u001b[0m\u001b[0m\n\u001b[1;32m    716\u001b[0m         \u001b[0mproject\u001b[0m\u001b[0;34m=\u001b[0m\u001b[0m_get_projects_path\u001b[0m\u001b[0;34m(\u001b[0m\u001b[0;34m)\u001b[0m\u001b[0;34m,\u001b[0m\u001b[0;34m\u001b[0m\u001b[0;34m\u001b[0m\u001b[0m\n\u001b[0;32m--> 717\u001b[0;31m         prettyPrint=False))['result']\n\u001b[0m\u001b[1;32m    718\u001b[0m   \u001b[0;32mreturn\u001b[0m \u001b[0msend_\u001b[0m\u001b[0;34m(\u001b[0m\u001b[0;34m'/value'\u001b[0m\u001b[0;34m,\u001b[0m \u001b[0;34m(\u001b[0m\u001b[0;34m{\u001b[0m\u001b[0;34m'json'\u001b[0m\u001b[0;34m:\u001b[0m \u001b[0mobj\u001b[0m\u001b[0;34m.\u001b[0m\u001b[0mserialize\u001b[0m\u001b[0;34m(\u001b[0m\u001b[0;34m)\u001b[0m\u001b[0;34m,\u001b[0m \u001b[0;34m'json_format'\u001b[0m\u001b[0;34m:\u001b[0m \u001b[0;34m'v2'\u001b[0m\u001b[0;34m}\u001b[0m\u001b[0;34m)\u001b[0m\u001b[0;34m)\u001b[0m\u001b[0;34m\u001b[0m\u001b[0;34m\u001b[0m\u001b[0m\n\u001b[1;32m    719\u001b[0m \u001b[0;34m\u001b[0m\u001b[0m\n",
      "\u001b[0;32m~/anaconda3/lib/python3.7/site-packages/ee/data.py\u001b[0m in \u001b[0;36m_execute_cloud_call\u001b[0;34m(call, num_retries)\u001b[0m\n\u001b[1;32m    338\u001b[0m     \u001b[0;32mreturn\u001b[0m \u001b[0mcall\u001b[0m\u001b[0;34m.\u001b[0m\u001b[0mexecute\u001b[0m\u001b[0;34m(\u001b[0m\u001b[0mnum_retries\u001b[0m\u001b[0;34m=\u001b[0m\u001b[0mnum_retries\u001b[0m\u001b[0;34m)\u001b[0m\u001b[0;34m\u001b[0m\u001b[0;34m\u001b[0m\u001b[0m\n\u001b[1;32m    339\u001b[0m   \u001b[0;32mexcept\u001b[0m \u001b[0mapiclient\u001b[0m\u001b[0;34m.\u001b[0m\u001b[0merrors\u001b[0m\u001b[0;34m.\u001b[0m\u001b[0mHttpError\u001b[0m \u001b[0;32mas\u001b[0m \u001b[0me\u001b[0m\u001b[0;34m:\u001b[0m\u001b[0;34m\u001b[0m\u001b[0;34m\u001b[0m\u001b[0m\n\u001b[0;32m--> 340\u001b[0;31m     \u001b[0;32mraise\u001b[0m \u001b[0m_translate_cloud_exception\u001b[0m\u001b[0;34m(\u001b[0m\u001b[0me\u001b[0m\u001b[0;34m)\u001b[0m\u001b[0;34m\u001b[0m\u001b[0;34m\u001b[0m\u001b[0m\n\u001b[0m\u001b[1;32m    341\u001b[0m \u001b[0;34m\u001b[0m\u001b[0m\n\u001b[1;32m    342\u001b[0m \u001b[0;34m\u001b[0m\u001b[0m\n",
      "\u001b[0;31mEEException\u001b[0m: Collection.geometry: Geometry has too many edges (4317588 > 2000000)."
     ]
    }
   ],
   "source": [
    "# 加载显示栅格数据和矢量数据 \n",
    "from ipygee import Map \n",
    "myMap = Map() \n",
    "# 展示OSM底图 \n",
    "myMap.show() \n",
    "# 栅格数据 \n",
    "img = ee.Image(\"CGIAR/SRTM90_V4\") \n",
    "# 矢量数据 \n",
    "roi = ee.FeatureCollection(\"users/wenyu_ouyang/HCDN_nhru_final_671\") \n",
    "# 缩放到指定级别 \n",
    "myMap.centerObject(roi, 5) \n",
    "# 裁剪数据 \n",
    "img = img.clip(roi) \n",
    "# 加载栅格数据到地图上 \n",
    "myMap.addLayer(img, {\"min\": 0, \"max\": 3000}, name=\"SRTM\") \n",
    "# 加载矢量数据到地图上 \n",
    "myMap.addLayer(roi, {\"outline_color\": \"red\", \"outline\": 2, \"fill_color\": \"blue\"}, name=\"roi\") "
   ]
  },
  {
   "cell_type": "markdown",
   "metadata": {},
   "source": [
    "以上就是基本的图形展示。\n",
    "\n",
    "### 一个案例：流域平均\n",
    "\n",
    "代码见gee_jiangtao文件夹下的notebook版本。"
   ]
  }
 ],
 "metadata": {
  "kernelspec": {
   "display_name": "Python 3",
   "language": "python",
   "name": "python3"
  },
  "language_info": {
   "codemirror_mode": {
    "name": "ipython",
    "version": 3
   },
   "file_extension": ".py",
   "mimetype": "text/x-python",
   "name": "python",
   "nbconvert_exporter": "python",
   "pygments_lexer": "ipython3",
   "version": "3.7.4"
  }
 },
 "nbformat": 4,
 "nbformat_minor": 4
}
