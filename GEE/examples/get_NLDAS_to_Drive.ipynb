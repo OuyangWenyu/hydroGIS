{
 "cells": [
  {
   "cell_type": "markdown",
   "metadata": {},
   "source": [
    "# 流域平均计算实例"
   ]
  },
  {
   "cell_type": "code",
   "execution_count": null,
   "metadata": {},
   "outputs": [],
   "source": [
    "# -*- coding: utf-8 -*-\n",
    "# please read UserMannual.docx\n",
    "\n",
    "import ee\n",
    "ee.Initialize()\n",
    "\n",
    "from osgeo import ogr\n",
    "\n",
    "# date for NLDAS\n",
    "dataset = ee.ImageCollection('NASA/NLDAS/FORA0125_H002').filter(ee.Filter.date('2000-01-01', '2001-1-5'))\n",
    "# don't change!\n",
    "img = dataset.select(['temperature',\"total_precipitation\",\"pressure\",\"wind_u\",\"wind_v\",\"longwave_radiation\",\"convective_fraction\",\"potential_energy\",\"potential_evaporation\",\"shortwave_radiation\"])\n",
    "\n",
    "#ds = ogr.Open('shape/Demo_Shape/demo_shape.shp',0) # demo shape\n",
    "# read shape(3 basins)\n",
    "ds = ogr.Open('shape/basins.shp',0)\n",
    "lyr = ds.GetLayer(0) # get the first layer and it has only one layer\n",
    "num_basin = lyr.GetFeatureCount() # get number of basins\n",
    "\n",
    "for i_num in range(num_basin):    \n",
    "    \n",
    "    i_lyr_geom = i_lyr.geometry() # geometry information in the shape \n",
    "    i_lyr_json = i_lyr_geom.ExportToJson() # convert to GeoJSON. Sometimes, points are too much！\n",
    "    i_ConvexHull = i_lyr_geom.ConvexHull().ExportToIsoWkt() # you can use the convex hull to get the result more quickly.\n",
    "    \n",
    "    # use the convex hull as roi\n",
    "    a=i_ConvexHull[10:-2]\n",
    "    b=a.split(',')\n",
    "#    c = [[i.replace(\" \",\",\")] for i in b]\n",
    "    d = [map(eval,i.split(' ')) for i in b]\n",
    "    i_roi = ee.Geometry.Polygon([d])\n",
    "\n",
    "# # i_lyr_bou = i_lyr_geom.GetEnvelope()\n",
    "# # use all points as roi, but sometimes it too slow to get result and you can get timeout\n",
    "#    i_lyr_ee = ee.Geometry.Polygon(eval(i_lyr_json[36:-2]))\n",
    "#    i_roi = i_lyr_ee\n",
    "    \n",
    "    # don't change position!   \n",
    "    def get_Mean(image):\n",
    "        dict = image.reduceRegion(\n",
    "            reducer = ee.Reducer.mean(),\n",
    "            geometry = i_roi);\n",
    "        image = image.set('Meann',dict)\n",
    "        return image    \n",
    "    \n",
    "    # your result name\n",
    "    i_name_basin = 'basin'+str(i_num)+'_s'\n",
    "    print i_name_basin\n",
    "    # get result for every basin average\n",
    "    result_mean = img.map(get_Mean)\n",
    "    # set task for export\n",
    "    task = ee.batch.Export.table.toDrive(\n",
    "            collection = result_mean, \n",
    "            description = 'PSU_task_'+str(i_num), \n",
    "            folder = 'PSU_GEE', \n",
    "            fileNamePrefix =i_name_basin, \n",
    "            fileFormat  = 'CSV',\n",
    "            selectors = [\"system:index\", \"Meann\"]);\n",
    "    # start the task\n",
    "    task.start()"
   ]
  }
 ],
 "metadata": {
  "kernelspec": {
   "display_name": "Python 3",
   "language": "python",
   "name": "python3"
  },
  "language_info": {
   "codemirror_mode": {
    "name": "ipython",
    "version": 3
   },
   "file_extension": ".py",
   "mimetype": "text/x-python",
   "name": "python",
   "nbconvert_exporter": "python",
   "pygments_lexer": "ipython3",
   "version": "3.7.4"
  }
 },
 "nbformat": 4,
 "nbformat_minor": 4
}
